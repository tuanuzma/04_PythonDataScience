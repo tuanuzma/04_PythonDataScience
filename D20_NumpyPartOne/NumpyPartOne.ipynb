{
 "cells": [
  {
   "cell_type": "code",
   "execution_count": 1,
   "id": "154c96d7-c3a5-44a3-832e-fb5a353127dc",
   "metadata": {},
   "outputs": [],
   "source": [
    "# pip install numpy\n",
    "# pip install matplotlib\n",
    "import numpy as np\n",
    "import matplotlib.pyplot as plt"
   ]
  },
  {
   "cell_type": "code",
   "execution_count": 2,
   "id": "bfeeb35f-b3c2-4fcc-a91d-2bbdf9097d11",
   "metadata": {},
   "outputs": [
    {
     "data": {
      "text/plain": [
       "[10, 20, 30, 40, 50, 60, 70, 80, 90]"
      ]
     },
     "execution_count": 2,
     "metadata": {},
     "output_type": "execute_result"
    }
   ],
   "source": [
    "mynumbers = [10, 20, 30, 40, 50, 60, 70, 80, 90]\n",
    "mynumbers"
   ]
  },
  {
   "cell_type": "code",
   "execution_count": 3,
   "id": "da5b985d-22f0-4340-ac26-eee3170b36d2",
   "metadata": {},
   "outputs": [
    {
     "data": {
      "text/plain": [
       "array([10, 20, 30, 40, 50, 60, 70, 80, 90])"
      ]
     },
     "execution_count": 3,
     "metadata": {},
     "output_type": "execute_result"
    }
   ],
   "source": [
    "# np is an alias name for numpy module\n",
    "# the numpy module has many functions \n",
    "# one of the function inside the numpy module is array\n",
    "# when we call the array function by passing the list the array function returns an object\n",
    "# which is an instance of class ndarray\n",
    "# this object is assigned to the variable mynumpynumbers\n",
    "mynumpynumbers = np.array(mynumbers)\n",
    "mynumpynumbers"
   ]
  },
  {
   "cell_type": "code",
   "execution_count": 4,
   "id": "aeda06af-ba9d-48df-a64b-b737f0169dcc",
   "metadata": {},
   "outputs": [
    {
     "data": {
      "text/plain": [
       "numpy.ndarray"
      ]
     },
     "execution_count": 4,
     "metadata": {},
     "output_type": "execute_result"
    }
   ],
   "source": [
    "type(mynumpynumbers)"
   ]
  },
  {
   "cell_type": "code",
   "execution_count": 5,
   "id": "1f01f2b2-41be-48bc-95ed-782ee23533ef",
   "metadata": {},
   "outputs": [
    {
     "data": {
      "text/plain": [
       "list"
      ]
     },
     "execution_count": 5,
     "metadata": {},
     "output_type": "execute_result"
    }
   ],
   "source": [
    "type(mynumbers)"
   ]
  },
  {
   "cell_type": "code",
   "execution_count": 6,
   "id": "df77f172-cef6-476e-a892-37d7609ba9ee",
   "metadata": {},
   "outputs": [
    {
     "data": {
      "text/plain": [
       "1"
      ]
     },
     "execution_count": 6,
     "metadata": {},
     "output_type": "execute_result"
    }
   ],
   "source": [
    "# ndim is a property of the class ndarray\n",
    "# what is the dimention of the array\n",
    "mynumpynumbers.ndim"
   ]
  },
  {
   "cell_type": "code",
   "execution_count": 7,
   "id": "67880049-deea-4866-a8a8-7bdf2375a350",
   "metadata": {},
   "outputs": [
    {
     "data": {
      "text/plain": [
       "9"
      ]
     },
     "execution_count": 7,
     "metadata": {},
     "output_type": "execute_result"
    }
   ],
   "source": [
    "# size is another property of the class ndarray\n",
    "# which tell us how many items we have in the array\n",
    "mynumpynumbers.size"
   ]
  },
  {
   "cell_type": "code",
   "execution_count": 8,
   "id": "5f98dc68-ac7e-4914-8a37-d3e241e5bb1f",
   "metadata": {},
   "outputs": [
    {
     "data": {
      "text/plain": [
       "(9,)"
      ]
     },
     "execution_count": 8,
     "metadata": {},
     "output_type": "execute_result"
    }
   ],
   "source": [
    "# size is another property of the class ndarray\n",
    "# which tell us shape of the array\n",
    "mynumpynumbers.shape"
   ]
  },
  {
   "cell_type": "code",
   "execution_count": 9,
   "id": "dedbef4b-61ee-45eb-ae36-aaec4d99e06c",
   "metadata": {},
   "outputs": [
    {
     "data": {
      "text/plain": [
       "[[1, 2, 3], [4, 5, 6]]"
      ]
     },
     "execution_count": 9,
     "metadata": {},
     "output_type": "execute_result"
    }
   ],
   "source": [
    "mymatrix = [[1, 2, 3], [4, 5, 6]]\n",
    "mymatrix"
   ]
  },
  {
   "cell_type": "code",
   "execution_count": 10,
   "id": "d932e190-7b92-4aad-98c6-b23423e8a608",
   "metadata": {},
   "outputs": [
    {
     "data": {
      "text/plain": [
       "array([[1, 2, 3],\n",
       "       [4, 5, 6]])"
      ]
     },
     "execution_count": 10,
     "metadata": {},
     "output_type": "execute_result"
    }
   ],
   "source": [
    "mynumpymatrix = np.array(mymatrix)\n",
    "mynumpymatrix"
   ]
  },
  {
   "cell_type": "code",
   "execution_count": 11,
   "id": "3822c4c9-2993-446c-8242-4aae4eb4eda4",
   "metadata": {},
   "outputs": [
    {
     "data": {
      "text/plain": [
       "2"
      ]
     },
     "execution_count": 11,
     "metadata": {},
     "output_type": "execute_result"
    }
   ],
   "source": [
    "mynumpymatrix.ndim # it is a 2 dimentional array"
   ]
  },
  {
   "cell_type": "code",
   "execution_count": 12,
   "id": "a3ea45d3-b0ce-4269-a8db-866d3b55a700",
   "metadata": {},
   "outputs": [
    {
     "data": {
      "text/plain": [
       "6"
      ]
     },
     "execution_count": 12,
     "metadata": {},
     "output_type": "execute_result"
    }
   ],
   "source": [
    "mynumpymatrix.size # total number of items"
   ]
  },
  {
   "cell_type": "code",
   "execution_count": 13,
   "id": "541f46b5-237c-4005-aaea-b4237071c4b6",
   "metadata": {},
   "outputs": [
    {
     "data": {
      "text/plain": [
       "(2, 3)"
      ]
     },
     "execution_count": 13,
     "metadata": {},
     "output_type": "execute_result"
    }
   ],
   "source": [
    "mynumpymatrix.shape # 2 rows 3 columns"
   ]
  },
  {
   "cell_type": "code",
   "execution_count": 14,
   "id": "b7c02e07-21f2-4585-b196-51dcbeca403e",
   "metadata": {},
   "outputs": [
    {
     "data": {
      "text/plain": [
       "[[[1, 2, 3], [4, 5, 6]]]"
      ]
     },
     "execution_count": 14,
     "metadata": {},
     "output_type": "execute_result"
    }
   ],
   "source": [
    "mymatrix = [[[1, 2, 3], [4, 5, 6]]]\n",
    "mymatrix"
   ]
  },
  {
   "cell_type": "code",
   "execution_count": 15,
   "id": "1b8f5c1d-923b-40d5-bab1-099f171f0fbb",
   "metadata": {},
   "outputs": [
    {
     "data": {
      "text/plain": [
       "array([[[1, 2, 3],\n",
       "        [4, 5, 6]]])"
      ]
     },
     "execution_count": 15,
     "metadata": {},
     "output_type": "execute_result"
    }
   ],
   "source": [
    "mynumpymatrix = np.array(mymatrix)\n",
    "mynumpymatrix"
   ]
  },
  {
   "cell_type": "code",
   "execution_count": 16,
   "id": "33af2c6b-847e-472e-ac1c-16ceace27722",
   "metadata": {},
   "outputs": [
    {
     "data": {
      "text/plain": [
       "3"
      ]
     },
     "execution_count": 16,
     "metadata": {},
     "output_type": "execute_result"
    }
   ],
   "source": [
    "mynumpymatrix.ndim #  3 dimentional array"
   ]
  },
  {
   "cell_type": "code",
   "execution_count": 17,
   "id": "17a15eb0-e719-42b4-8af0-4131c4f114a7",
   "metadata": {},
   "outputs": [
    {
     "data": {
      "text/plain": [
       "6"
      ]
     },
     "execution_count": 17,
     "metadata": {},
     "output_type": "execute_result"
    }
   ],
   "source": [
    "mynumpymatrix.size"
   ]
  },
  {
   "cell_type": "code",
   "execution_count": 18,
   "id": "1591ad56-cb45-4d5b-b0c0-cdad49076e8a",
   "metadata": {},
   "outputs": [
    {
     "data": {
      "text/plain": [
       "(1, 2, 3)"
      ]
     },
     "execution_count": 18,
     "metadata": {},
     "output_type": "execute_result"
    }
   ],
   "source": [
    "mynumpymatrix.shape"
   ]
  },
  {
   "cell_type": "code",
   "execution_count": 19,
   "id": "0d4c6ffd-0478-45fd-a3b3-d250a3764751",
   "metadata": {},
   "outputs": [
    {
     "data": {
      "text/plain": [
       "[[[1, 2, 3, 4], [5, 6, 7, 8], [9, 10, 11, 12]],\n",
       " [[13, 14, 15, 16], [17, 18, 19, 20], [21, 22, 23, 24]]]"
      ]
     },
     "execution_count": 19,
     "metadata": {},
     "output_type": "execute_result"
    }
   ],
   "source": [
    "# let us create a complicated RGB image array\n",
    "mymatrix = [\n",
    "    [\n",
    "        [1, 2, 3, 4], [5, 6, 7, 8], [9, 10, 11, 12]\n",
    "    ], \n",
    "    [\n",
    "        [13, 14, 15, 16], [17, 18, 19, 20], [21, 22, 23, 24]\n",
    "    ]\n",
    "]\n",
    "mymatrix"
   ]
  },
  {
   "cell_type": "code",
   "execution_count": 20,
   "id": "b8829bb3-f2ad-46ac-97d0-2c900ed48cb9",
   "metadata": {},
   "outputs": [
    {
     "data": {
      "text/plain": [
       "array([[[ 1,  2,  3,  4],\n",
       "        [ 5,  6,  7,  8],\n",
       "        [ 9, 10, 11, 12]],\n",
       "\n",
       "       [[13, 14, 15, 16],\n",
       "        [17, 18, 19, 20],\n",
       "        [21, 22, 23, 24]]])"
      ]
     },
     "execution_count": 20,
     "metadata": {},
     "output_type": "execute_result"
    }
   ],
   "source": [
    "mynumpymatrix = np.array(mymatrix)\n",
    "mynumpymatrix"
   ]
  },
  {
   "cell_type": "code",
   "execution_count": 21,
   "id": "e16d4352-d103-42cd-8a72-05a39e76939a",
   "metadata": {},
   "outputs": [
    {
     "data": {
      "text/plain": [
       "3"
      ]
     },
     "execution_count": 21,
     "metadata": {},
     "output_type": "execute_result"
    }
   ],
   "source": [
    "mynumpymatrix.ndim"
   ]
  },
  {
   "cell_type": "code",
   "execution_count": 22,
   "id": "cd672fee-96e6-426e-b160-e4784e4d0757",
   "metadata": {},
   "outputs": [
    {
     "data": {
      "text/plain": [
       "24"
      ]
     },
     "execution_count": 22,
     "metadata": {},
     "output_type": "execute_result"
    }
   ],
   "source": [
    "mynumpymatrix.size"
   ]
  },
  {
   "cell_type": "code",
   "execution_count": 23,
   "id": "7da35277-c202-42c2-bcd2-b39cfa356ebc",
   "metadata": {},
   "outputs": [
    {
     "data": {
      "text/plain": [
       "(2, 3, 4)"
      ]
     },
     "execution_count": 23,
     "metadata": {},
     "output_type": "execute_result"
    }
   ],
   "source": [
    "mynumpymatrix.shape"
   ]
  },
  {
   "cell_type": "code",
   "execution_count": 24,
   "id": "11bde0ce-6ad1-4af1-be36-b1385bea52ee",
   "metadata": {},
   "outputs": [
    {
     "data": {
      "text/plain": [
       "dtype('int64')"
      ]
     },
     "execution_count": 24,
     "metadata": {},
     "output_type": "execute_result"
    }
   ],
   "source": [
    "# Very Important Property of a numpy array is dtype\n",
    "# The actual data type of this particular array is 64 bit\n",
    "# which is a huge number\n",
    "# However we are keeping very small numbers in the numpy array\n",
    "# We can change the data type to a smaller one \n",
    "mynumpymatrix.dtype"
   ]
  },
  {
   "cell_type": "code",
   "execution_count": 25,
   "id": "a40a77d3-aa76-4091-a12e-cb25f96bb80f",
   "metadata": {},
   "outputs": [
    {
     "data": {
      "text/plain": [
       "array([1, 2, 3, 4, 5, 6, 7, 8, 9], dtype=int8)"
      ]
     },
     "execution_count": 25,
     "metadata": {},
     "output_type": "execute_result"
    }
   ],
   "source": [
    "# int8 means 2 ^ 8 = 256 the biggest number that i have is 9 \n",
    "# which is smaller than 256, so 8 bit is good enough\n",
    "mynumbers = [1, 2, 3, 4, 5, 6, 7, 8, 9]\n",
    "mynumpynumbers = np.array(mynumbers, dtype='int8')\n",
    "mynumpynumbers\n",
    "# Usually the dtype will not appear if it is using the default data type\n",
    "# however since we already change it to 8 bit it is appearing now"
   ]
  },
  {
   "cell_type": "code",
   "execution_count": 26,
   "id": "0f86aace-e293-40f9-a40d-5d8005eb8e76",
   "metadata": {},
   "outputs": [
    {
     "data": {
      "text/plain": [
       "array([1, 2, 3, 4, 5, 6, 7, 8, 9], dtype=int8)"
      ]
     },
     "execution_count": 26,
     "metadata": {},
     "output_type": "execute_result"
    }
   ],
   "source": [
    "# you can also pass tuple as argument\n",
    "mynumbers = (1, 2, 3, 4, 5, 6, 7, 8, 9)\n",
    "mynumpynumbers = np.array(mynumbers, dtype='int8')\n",
    "mynumpynumbers"
   ]
  },
  {
   "cell_type": "markdown",
   "id": "2219165a-f86d-455f-9920-b1406b690564",
   "metadata": {},
   "source": [
    "### Creating numpy arrays and populating it with data"
   ]
  },
  {
   "cell_type": "code",
   "execution_count": 27,
   "id": "f00cf469-4498-4a1f-9c8d-4b8b62cd6c2e",
   "metadata": {},
   "outputs": [
    {
     "data": {
      "text/plain": [
       "array([[0., 0., 0.],\n",
       "       [0., 0., 0.]])"
      ]
     },
     "execution_count": 27,
     "metadata": {},
     "output_type": "execute_result"
    }
   ],
   "source": [
    "# there are few function that can help us to do this\n",
    "# zeros will create a numpy array and populate it with zeros\n",
    "# Lets say we want to create a 2 dimensional array with 2 rows and 3 colummns\n",
    "# The 2, 3 must be placed inside the tuple\n",
    "myzeromatrix = np.zeros((2, 3))\n",
    "myzeromatrix"
   ]
  },
  {
   "cell_type": "code",
   "execution_count": 28,
   "id": "316bafcd-fe93-481f-9021-d44ecc1102d2",
   "metadata": {},
   "outputs": [
    {
     "data": {
      "text/plain": [
       "array([[1., 1., 1.],\n",
       "       [1., 1., 1.]])"
      ]
     },
     "execution_count": 28,
     "metadata": {},
     "output_type": "execute_result"
    }
   ],
   "source": [
    "# let us say I want to create a matrix and fill it with 1s\n",
    "myonematrix = np.ones((2, 3))\n",
    "myonematrix"
   ]
  },
  {
   "cell_type": "code",
   "execution_count": 29,
   "id": "a9c5ec3c-0be7-4ff8-84c2-b65dccf1e6b3",
   "metadata": {},
   "outputs": [
    {
     "data": {
      "text/plain": [
       "array([[5, 5, 5],\n",
       "       [5, 5, 5]])"
      ]
     },
     "execution_count": 29,
     "metadata": {},
     "output_type": "execute_result"
    }
   ],
   "source": [
    "# what if we want to fill up with 5s\n",
    "myfivematrix = np.full((2, 3), 5)\n",
    "myfivematrix"
   ]
  },
  {
   "cell_type": "code",
   "execution_count": 30,
   "id": "b27594d3-f861-409b-a544-9745e6b86675",
   "metadata": {},
   "outputs": [
    {
     "data": {
      "text/plain": [
       "array([[0. , 0.5, 1. ]])"
      ]
     },
     "execution_count": 30,
     "metadata": {},
     "output_type": "execute_result"
    }
   ],
   "source": [
    "myemptymatrix = np.empty((1, 3))\n",
    "myemptymatrix # uninitialized matrix"
   ]
  },
  {
   "cell_type": "code",
   "execution_count": 31,
   "id": "35978ff1-c8b4-4b38-b297-b903964c3e89",
   "metadata": {},
   "outputs": [
    {
     "data": {
      "text/plain": [
       "array([0, 1, 2, 3, 4, 5, 6, 7, 8, 9])"
      ]
     },
     "execution_count": 31,
     "metadata": {},
     "output_type": "execute_result"
    }
   ],
   "source": [
    "# you can also generate numbers\n",
    "# using arange function in the np module\n",
    "# arange function takes start index, end index as argument\n",
    "# start index in included and end index is not included\n",
    "# this function is different from previous function where the shape is given as a tuple\n",
    "np.arange(0, 10)"
   ]
  },
  {
   "cell_type": "code",
   "execution_count": 32,
   "id": "c0ffdf11-6920-4c86-bd1b-fb753acec514",
   "metadata": {},
   "outputs": [
    {
     "data": {
      "text/plain": [
       "array([0, 2, 4, 6, 8])"
      ]
     },
     "execution_count": 32,
     "metadata": {},
     "output_type": "execute_result"
    }
   ],
   "source": [
    "# arange function is similar to range function in python\n",
    "# however range function (built in function) returns a list \n",
    "# arange function (function inside numpy module) returns a numpy array\n",
    "# arange function also takes 3rd parameter which is step up\n",
    "np.arange(0, 10, 2) # all even numbers"
   ]
  },
  {
   "cell_type": "code",
   "execution_count": 33,
   "id": "46aa3d20-b12e-4078-a5ec-af9436a948d4",
   "metadata": {},
   "outputs": [
    {
     "data": {
      "text/plain": [
       "array([1, 3, 5, 7, 9])"
      ]
     },
     "execution_count": 33,
     "metadata": {},
     "output_type": "execute_result"
    }
   ],
   "source": [
    "np.arange(1, 10, 2) # all odd numbers"
   ]
  },
  {
   "cell_type": "code",
   "execution_count": 34,
   "id": "94b06a4d-901e-4fc8-a0ec-8b49da5f9584",
   "metadata": {},
   "outputs": [
    {
     "data": {
      "text/plain": [
       "array([ 0.,  5., 10.])"
      ]
     },
     "execution_count": 34,
     "metadata": {},
     "output_type": "execute_result"
    }
   ],
   "source": [
    "# some times we may want to generate \"n number of items\"\n",
    "# between the start index and end index\n",
    "# linspace function takes 3 parameters start index, end index and number of items to be generated\n",
    "# Note: start index and end index is included \n",
    "np.linspace(0, 10, 3)"
   ]
  },
  {
   "cell_type": "code",
   "execution_count": 35,
   "id": "71f0c5bd-37d2-4d1f-b39d-04d75057b6a7",
   "metadata": {},
   "outputs": [
    {
     "data": {
      "text/plain": [
       "array([ 0.        ,  0.52631579,  1.05263158,  1.57894737,  2.10526316,\n",
       "        2.63157895,  3.15789474,  3.68421053,  4.21052632,  4.73684211,\n",
       "        5.26315789,  5.78947368,  6.31578947,  6.84210526,  7.36842105,\n",
       "        7.89473684,  8.42105263,  8.94736842,  9.47368421, 10.        ])"
      ]
     },
     "execution_count": 35,
     "metadata": {},
     "output_type": "execute_result"
    }
   ],
   "source": [
    "np.linspace(0, 10, 20) # if you take any 2 adjacent numbers \n",
    "# and see the difference it is always the same"
   ]
  },
  {
   "cell_type": "code",
   "execution_count": 36,
   "id": "40cfb64b-3ab2-4432-b2e5-f0408325bb14",
   "metadata": {},
   "outputs": [
    {
     "data": {
      "text/plain": [
       "array([[1., 0., 0.],\n",
       "       [0., 1., 0.],\n",
       "       [0., 0., 1.]])"
      ]
     },
     "execution_count": 36,
     "metadata": {},
     "output_type": "execute_result"
    }
   ],
   "source": [
    "# you can also create special matrix\n",
    "# identity matrix, it is a square matrix where the diagonal is 1 rest all are 0\n",
    "np.eye(3)"
   ]
  },
  {
   "cell_type": "code",
   "execution_count": 37,
   "id": "5e8a04db-6220-42a6-bcc8-bd92b9080478",
   "metadata": {},
   "outputs": [
    {
     "data": {
      "text/plain": [
       "0.9258120495940085"
      ]
     },
     "execution_count": 37,
     "metadata": {},
     "output_type": "execute_result"
    }
   ],
   "source": [
    "# we can also generate numbers and populate randomly\n",
    "np.random.rand() # single random number"
   ]
  },
  {
   "cell_type": "code",
   "execution_count": 38,
   "id": "cc3ee6c1-47f8-4a45-889d-da1826eee3a5",
   "metadata": {},
   "outputs": [
    {
     "data": {
      "text/plain": [
       "array([0.60384285, 0.41544847, 0.9129251 , 0.25232119, 0.39490407])"
      ]
     },
     "execution_count": 38,
     "metadata": {},
     "output_type": "execute_result"
    }
   ],
   "source": [
    "np.random.rand(5) # generate 5 random numbers"
   ]
  },
  {
   "cell_type": "code",
   "execution_count": 39,
   "id": "9dcdd244-9019-411b-ba63-7bcb5166db8f",
   "metadata": {},
   "outputs": [
    {
     "data": {
      "text/plain": [
       "array([[0.24060617, 0.05841182, 0.73906711],\n",
       "       [0.34313999, 0.73351277, 0.89131704]])"
      ]
     },
     "execution_count": 39,
     "metadata": {},
     "output_type": "execute_result"
    }
   ],
   "source": [
    "np.random.rand(2, 3) # matrix of 2 rows with 3 columns"
   ]
  },
  {
   "cell_type": "code",
   "execution_count": 40,
   "id": "255313fb-9a7a-4032-9911-f197a6b15abf",
   "metadata": {},
   "outputs": [
    {
     "data": {
      "text/plain": [
       "array([48, 45, 42,  3, 60], dtype=int32)"
      ]
     },
     "execution_count": 40,
     "metadata": {},
     "output_type": "execute_result"
    }
   ],
   "source": [
    "# why the random numbers are always between 0 to 1\n",
    "# Random numbers is a sub chapter of propability mathematics\n",
    "# In probability, 1 means the event will definetely occur \n",
    "# 0 means the even will not occur\n",
    "# So the probability of any even to occur is between 0 to 1\n",
    "# However we have another function randint which can generate random integers\n",
    "# randint function takes start, end index and how many number of items\n",
    "np.random.randint(1, 100, 5)"
   ]
  },
  {
   "cell_type": "code",
   "execution_count": 41,
   "id": "643791b0-ebda-4273-8281-7e73ff64e449",
   "metadata": {},
   "outputs": [],
   "source": [
    "# Generate normally distributed random data\n",
    "data = np.random.randn(10000)"
   ]
  },
  {
   "cell_type": "code",
   "execution_count": 42,
   "id": "648c9f9b-4d96-4fda-827d-444252d6a6df",
   "metadata": {},
   "outputs": [
    {
     "data": {
      "text/plain": [
       "(array([5.000e+00, 1.600e+01, 3.100e+01, 8.400e+01, 2.010e+02, 4.550e+02,\n",
       "        8.020e+02, 1.191e+03, 1.435e+03, 1.544e+03, 1.464e+03, 1.154e+03,\n",
       "        7.870e+02, 4.580e+02, 2.180e+02, 1.030e+02, 3.200e+01, 1.300e+01,\n",
       "        6.000e+00, 1.000e+00]),\n",
       " array([-3.74667145, -3.35374999, -2.96082852, -2.56790706, -2.17498559,\n",
       "        -1.78206413, -1.38914266, -0.9962212 , -0.60329973, -0.21037827,\n",
       "         0.1825432 ,  0.57546466,  0.96838613,  1.36130759,  1.75422906,\n",
       "         2.14715052,  2.54007199,  2.93299345,  3.32591492,  3.71883638,\n",
       "         4.11175785]),\n",
       " <BarContainer object of 20 artists>)"
      ]
     },
     "execution_count": 42,
     "metadata": {},
     "output_type": "execute_result"
    },
    {
     "data": {
      "image/png": "[encoded data removed]",
      "text/plain": [
       "<Figure size 640x480 with 1 Axes>"
      ]
     },
     "metadata": {},
     "output_type": "display_data"
    }
   ],
   "source": [
    "plt.hist(data, bins=20)"
   ]
  },
  {
   "cell_type": "markdown",
   "id": "243222a5-1e34-4dca-b359-f355aa01c3a9",
   "metadata": {},
   "source": [
    "### Indexing and Selection"
   ]
  },
  {
   "cell_type": "code",
   "execution_count": 43,
   "id": "db5e90f4-f8a2-4f44-9ffb-839061d681a4",
   "metadata": {},
   "outputs": [
    {
     "data": {
      "text/plain": [
       "array(['apple', 'orange', 'mango', 'banana', 'grapes', 'durian',\n",
       "       'rambutan'], dtype='<U8')"
      ]
     },
     "execution_count": 43,
     "metadata": {},
     "output_type": "execute_result"
    }
   ],
   "source": [
    "fruits = np.array(['apple', 'orange', 'mango', 'banana', 'grapes', 'durian', 'rambutan'])\n",
    "fruits"
   ]
  },
  {
   "cell_type": "code",
   "execution_count": 44,
   "id": "b60169dd-a6f5-4348-a34c-235b8313ed25",
   "metadata": {},
   "outputs": [
    {
     "data": {
      "text/plain": [
       "np.str_('apple')"
      ]
     },
     "execution_count": 44,
     "metadata": {},
     "output_type": "execute_result"
    }
   ],
   "source": [
    "fruits[0]"
   ]
  },
  {
   "cell_type": "code",
   "execution_count": 45,
   "id": "f744a231-971d-4123-ab2c-337c7f574c5d",
   "metadata": {},
   "outputs": [
    {
     "data": {
      "text/plain": [
       "np.str_('rambutan')"
      ]
     },
     "execution_count": 45,
     "metadata": {},
     "output_type": "execute_result"
    }
   ],
   "source": [
    "fruits[-1]"
   ]
  },
  {
   "cell_type": "code",
   "execution_count": 46,
   "id": "853fade1-af9e-4683-b3d7-1da9713dbda2",
   "metadata": {},
   "outputs": [
    {
     "data": {
      "text/plain": [
       "array(['mango', 'banana', 'grapes'], dtype='<U8')"
      ]
     },
     "execution_count": 46,
     "metadata": {},
     "output_type": "execute_result"
    }
   ],
   "source": [
    "fruits[2:5]"
   ]
  },
  {
   "cell_type": "code",
   "execution_count": 47,
   "id": "61e8e6e5-8959-49a3-abdd-923f4deb477d",
   "metadata": {},
   "outputs": [
    {
     "data": {
      "text/plain": [
       "array(['grapes', 'banana', 'mango'], dtype='<U8')"
      ]
     },
     "execution_count": 47,
     "metadata": {},
     "output_type": "execute_result"
    }
   ],
   "source": [
    "fruits[4:1:-1]"
   ]
  },
  {
   "cell_type": "code",
   "execution_count": 48,
   "id": "d9954d6d-2377-45ec-b295-1d5b497520fe",
   "metadata": {},
   "outputs": [
    {
     "data": {
      "text/plain": [
       "array(['rambutan', 'durian', 'grapes', 'banana', 'mango', 'orange',\n",
       "       'apple'], dtype='<U8')"
      ]
     },
     "execution_count": 48,
     "metadata": {},
     "output_type": "execute_result"
    }
   ],
   "source": [
    "fruits[::-1]"
   ]
  },
  {
   "cell_type": "code",
   "execution_count": 49,
   "id": "f608c3ed-0c76-4281-ba58-1cb7e4657273",
   "metadata": {},
   "outputs": [
    {
     "data": {
      "text/plain": [
       "array(['orange', 'banana', 'durian', 'mango', 'grapes'], dtype='<U8')"
      ]
     },
     "execution_count": 49,
     "metadata": {},
     "output_type": "execute_result"
    }
   ],
   "source": [
    "# you can select the items using multiple number indexes \n",
    "fruits[[1, 3, 5, 2, 4]]"
   ]
  },
  {
   "cell_type": "code",
   "execution_count": 50,
   "id": "f0a99b99-be10-4116-a5b9-e95b04416cb2",
   "metadata": {},
   "outputs": [
    {
     "data": {
      "text/plain": [
       "array([ True,  True,  True,  True, False,  True,  True])"
      ]
     },
     "execution_count": 50,
     "metadata": {},
     "output_type": "execute_result"
    }
   ],
   "source": [
    "# you can also select the items using boolean indexes \n",
    "fruits != 'grapes' # what you get is numpy boolean array"
   ]
  },
  {
   "cell_type": "code",
   "execution_count": 51,
   "id": "076c3251-9420-4bf0-a601-1b1bb31ea7e4",
   "metadata": {},
   "outputs": [
    {
     "data": {
      "text/plain": [
       "array(['apple', 'orange', 'mango', 'banana', 'durian', 'rambutan'],\n",
       "      dtype='<U8')"
      ]
     },
     "execution_count": 51,
     "metadata": {},
     "output_type": "execute_result"
    }
   ],
   "source": [
    "fruits[[True,  True,  True,  True, False,  True,  True]]"
   ]
  },
  {
   "cell_type": "code",
   "execution_count": 52,
   "id": "dc9d244e-e110-4415-a44d-5b827082e47f",
   "metadata": {},
   "outputs": [
    {
     "data": {
      "text/plain": [
       "array(['apple', 'orange', 'mango', 'banana', 'durian', 'rambutan'],\n",
       "      dtype='<U8')"
      ]
     },
     "execution_count": 52,
     "metadata": {},
     "output_type": "execute_result"
    }
   ],
   "source": [
    "fruits[(fruits != 'grapes')]"
   ]
  },
  {
   "cell_type": "code",
   "execution_count": 53,
   "id": "e80a7598-6885-4aaf-8849-6e2f0863d0bc",
   "metadata": {},
   "outputs": [
    {
     "data": {
      "text/plain": [
       "array([ True, False,  True,  True, False,  True,  True])"
      ]
     },
     "execution_count": 53,
     "metadata": {},
     "output_type": "execute_result"
    }
   ],
   "source": [
    "# logical opeartors are & (and) and | (or)\n",
    "((fruits != 'grapes') & (fruits !='orange'))"
   ]
  },
  {
   "cell_type": "code",
   "execution_count": 54,
   "id": "080e96ff-afff-4fe0-99c3-10c47faba392",
   "metadata": {},
   "outputs": [
    {
     "data": {
      "text/plain": [
       "array(['apple', 'mango', 'banana', 'durian', 'rambutan'], dtype='<U8')"
      ]
     },
     "execution_count": 54,
     "metadata": {},
     "output_type": "execute_result"
    }
   ],
   "source": [
    "fruits[((fruits != 'grapes') & (fruits !='orange'))]"
   ]
  },
  {
   "cell_type": "markdown",
   "id": "a4c2b237-82f9-45ae-9a9e-792e2fb0a08b",
   "metadata": {},
   "source": [
    "### Modify data in a numpy array"
   ]
  },
  {
   "cell_type": "code",
   "execution_count": 55,
   "id": "962fa743-55d3-404d-9c13-229be0b78578",
   "metadata": {},
   "outputs": [
    {
     "data": {
      "text/plain": [
       "array([0, 1, 2, 3, 4, 5, 6, 7, 8, 9])"
      ]
     },
     "execution_count": 55,
     "metadata": {},
     "output_type": "execute_result"
    }
   ],
   "source": [
    "mynumpyarray = np.arange(0, 10)\n",
    "mynumpyarray"
   ]
  },
  {
   "cell_type": "code",
   "execution_count": 56,
   "id": "d3ed373c-eeee-42cb-81a2-c8e511ca79c7",
   "metadata": {},
   "outputs": [
    {
     "data": {
      "text/plain": [
       "array([ 0,  1,  2,  3,  4, 25,  6,  7,  8,  9])"
      ]
     },
     "execution_count": 56,
     "metadata": {},
     "output_type": "execute_result"
    }
   ],
   "source": [
    "# modifing a value\n",
    "mynumpyarray[5] = 25\n",
    "mynumpyarray"
   ]
  },
  {
   "cell_type": "code",
   "execution_count": 57,
   "id": "95d961e2-9f26-467c-84a3-ac06cef4face",
   "metadata": {},
   "outputs": [
    {
     "data": {
      "text/plain": [
       "array([ 0,  1,  2,  3,  4, 25,  6,  7,  8,  9, 10])"
      ]
     },
     "execution_count": 57,
     "metadata": {},
     "output_type": "execute_result"
    }
   ],
   "source": [
    "# How can i add a new item\n",
    "# use the function append in the np module\n",
    "np.append(mynumpyarray, 10) # this is not permanent"
   ]
  },
  {
   "cell_type": "code",
   "execution_count": 58,
   "id": "31e638e0-600b-4bcc-ab79-ee0f66d4580f",
   "metadata": {},
   "outputs": [
    {
     "data": {
      "text/plain": [
       "array([ 0,  1,  2,  3,  4, 25,  6,  7,  8,  9, 10])"
      ]
     },
     "execution_count": 58,
     "metadata": {},
     "output_type": "execute_result"
    }
   ],
   "source": [
    "mynumpyarray = np.append(mynumpyarray, 10) # this is permanent\n",
    "mynumpyarray"
   ]
  },
  {
   "cell_type": "code",
   "execution_count": 59,
   "id": "6277f414-8c68-4409-9dff-0670e4cde933",
   "metadata": {},
   "outputs": [
    {
     "data": {
      "text/plain": [
       "array([ 0,  1,  2,  3,  4, 25,  6,  7,  8,  9, 10, 11, 12, 13, 14, 15])"
      ]
     },
     "execution_count": 59,
     "metadata": {},
     "output_type": "execute_result"
    }
   ],
   "source": [
    "# you can also append another numpy array\n",
    "mynumpyarray = np.append(mynumpyarray, [11, 12, 13, 14, 15]) # this is permanent\n",
    "mynumpyarray"
   ]
  },
  {
   "cell_type": "code",
   "execution_count": 60,
   "id": "4e502194-6c3e-4df5-a33b-c8874d246a03",
   "metadata": {},
   "outputs": [
    {
     "data": {
      "text/plain": [
       "array([[1, 2, 3],\n",
       "       [4, 5, 6]])"
      ]
     },
     "execution_count": 60,
     "metadata": {},
     "output_type": "execute_result"
    }
   ],
   "source": [
    "mymatrix = np.array([[1, 2, 3], [4, 5, 6]])\n",
    "mymatrix"
   ]
  },
  {
   "cell_type": "code",
   "execution_count": 61,
   "id": "b6c04004-7e75-48ef-b66b-80ebe3933a96",
   "metadata": {},
   "outputs": [
    {
     "data": {
      "text/plain": [
       "array([[ 1,  2,  3],\n",
       "       [ 4,  5,  6],\n",
       "       [ 7,  8,  9],\n",
       "       [10, 11, 12]])"
      ]
     },
     "execution_count": 61,
     "metadata": {},
     "output_type": "execute_result"
    }
   ],
   "source": [
    "# if it is not a 1 dimensional array you cannot use append function\n",
    "# you have to use concatenate function\n",
    "# concatenate function takes the original matrix and the array(s) to be added \n",
    "# has to be put inside a tuple and pass it as the first second argument\n",
    "# to concatenate the item(s) in row we have to use axis = 0\n",
    "mymatrix = np.concatenate((mymatrix, [[7, 8, 9]], [[10, 11, 12]]), axis = 0)\n",
    "mymatrix"
   ]
  },
  {
   "cell_type": "code",
   "execution_count": 62,
   "id": "3c24612f-63cd-4d89-bc7c-66ff1f6f622a",
   "metadata": {},
   "outputs": [
    {
     "data": {
      "text/plain": [
       "array([[ 1,  2,  3, 13],\n",
       "       [ 4,  5,  6, 14],\n",
       "       [ 7,  8,  9, 15],\n",
       "       [10, 11, 12, 16]])"
      ]
     },
     "execution_count": 62,
     "metadata": {},
     "output_type": "execute_result"
    }
   ],
   "source": [
    "# to concatenate the item(s) in column we have use axis = 1\n",
    "# here the row is converted to a column where 13 is in the first row\n",
    "# 14 is in the second row, 15 is in the third row, 16 is in the fourth row\n",
    "mymatrix = np.concatenate((mymatrix, [[13], [14], [15], [16]]), axis = 1)\n",
    "mymatrix"
   ]
  },
  {
   "cell_type": "code",
   "execution_count": 63,
   "id": "2548269b-689c-4ce0-a7de-7ac115308187",
   "metadata": {},
   "outputs": [
    {
     "data": {
      "text/plain": [
       "array([[ 1,  2,  3, 13],\n",
       "       [ 4,  5,  6, 14],\n",
       "       [ 7,  8,  9, 15],\n",
       "       [10, 11, 12, 16]])"
      ]
     },
     "execution_count": 63,
     "metadata": {},
     "output_type": "execute_result"
    }
   ],
   "source": [
    "mymatrix"
   ]
  },
  {
   "cell_type": "code",
   "execution_count": 64,
   "id": "4aceb7da-33e1-45a2-848b-196f836e1665",
   "metadata": {},
   "outputs": [
    {
     "data": {
      "text/plain": [
       "2"
      ]
     },
     "execution_count": 64,
     "metadata": {},
     "output_type": "execute_result"
    }
   ],
   "source": [
    "mymatrix.ndim"
   ]
  },
  {
   "cell_type": "code",
   "execution_count": 65,
   "id": "9552cccf-9615-4ad0-93f2-b359239624cd",
   "metadata": {},
   "outputs": [
    {
     "data": {
      "text/plain": [
       "(4, 4)"
      ]
     },
     "execution_count": 65,
     "metadata": {},
     "output_type": "execute_result"
    }
   ],
   "source": [
    "mymatrix.shape"
   ]
  },
  {
   "cell_type": "code",
   "execution_count": 66,
   "id": "a4703f69-6e2c-46bc-9015-137464d9e555",
   "metadata": {},
   "outputs": [
    {
     "data": {
      "text/plain": [
       "array([0, 1, 2, 3, 4, 5, 6, 7, 8])"
      ]
     },
     "execution_count": 66,
     "metadata": {},
     "output_type": "execute_result"
    }
   ],
   "source": [
    "mynumpyarray = np.arange(0, 9)\n",
    "mynumpyarray"
   ]
  },
  {
   "cell_type": "code",
   "execution_count": 67,
   "id": "dce68c46-c678-4cf8-be7b-4ef4ad30aad1",
   "metadata": {},
   "outputs": [
    {
     "data": {
      "text/plain": [
       "array([[0, 1, 2],\n",
       "       [3, 4, 5],\n",
       "       [6, 7, 8]])"
      ]
     },
     "execution_count": 67,
     "metadata": {},
     "output_type": "execute_result"
    }
   ],
   "source": [
    "# you can always convert a single dimensional array to a 2 dimensional array\n",
    "mynumpyarray.reshape(3, 3)"
   ]
  },
  {
   "cell_type": "code",
   "execution_count": 68,
   "id": "1ede34a1-a7f4-45c9-9108-88a859408c29",
   "metadata": {},
   "outputs": [
    {
     "data": {
      "text/plain": [
       "array([0, 1, 2, 3, 4, 5])"
      ]
     },
     "execution_count": 68,
     "metadata": {},
     "output_type": "execute_result"
    }
   ],
   "source": [
    "mynumpyarray = np.arange(0, 6)\n",
    "mynumpyarray"
   ]
  },
  {
   "cell_type": "code",
   "execution_count": 69,
   "id": "4ebf9a6a-ce5c-4e01-aa60-2276830f1f01",
   "metadata": {},
   "outputs": [
    {
     "data": {
      "text/plain": [
       "array([[0, 1, 2],\n",
       "       [3, 4, 5]])"
      ]
     },
     "execution_count": 69,
     "metadata": {},
     "output_type": "execute_result"
    }
   ],
   "source": [
    "mynumpyarray.reshape(2, 3)"
   ]
  },
  {
   "cell_type": "code",
   "execution_count": 70,
   "id": "980a8562-443e-4c72-bfd6-4875f21d2923",
   "metadata": {},
   "outputs": [
    {
     "data": {
      "text/plain": [
       "array([0, 1, 2, 3, 4, 5, 6, 7, 8, 9])"
      ]
     },
     "execution_count": 70,
     "metadata": {},
     "output_type": "execute_result"
    }
   ],
   "source": [
    "mynumpyarray = np.arange(0, 10)\n",
    "mynumpyarray"
   ]
  },
  {
   "cell_type": "code",
   "execution_count": 71,
   "id": "580fd936-d727-4938-b8b2-5319b5ff95b4",
   "metadata": {},
   "outputs": [
    {
     "data": {
      "text/plain": [
       "array([[0],\n",
       "       [1],\n",
       "       [2],\n",
       "       [3],\n",
       "       [4],\n",
       "       [5],\n",
       "       [6],\n",
       "       [7],\n",
       "       [8],\n",
       "       [9]])"
      ]
     },
     "execution_count": 71,
     "metadata": {},
     "output_type": "execute_result"
    }
   ],
   "source": [
    "# mynumpyarray.reshape(10, 1) # we may not know the 10\n",
    "# so instead of using 10 you can always use -1\n",
    "mynumpyarray.reshape(-1, 1)"
   ]
  },
  {
   "cell_type": "code",
   "execution_count": 72,
   "id": "aa0eafe2-a55b-4220-a8f0-fcc0a5807c4c",
   "metadata": {},
   "outputs": [
    {
     "data": {
      "text/plain": [
       "array([[ 1,  2,  3, 13, 17],\n",
       "       [ 4,  5,  6, 14, 18],\n",
       "       [ 7,  8,  9, 15, 19],\n",
       "       [10, 11, 12, 16, 20]])"
      ]
     },
     "execution_count": 72,
     "metadata": {},
     "output_type": "execute_result"
    }
   ],
   "source": [
    "mymatrix = np.concatenate((mymatrix, np.array([17, 18, 19, 20]).reshape(-1, 1)), axis = 1)\n",
    "mymatrix"
   ]
  },
  {
   "cell_type": "markdown",
   "id": "4418bae8-96ce-48c3-9a41-38b308eb9295",
   "metadata": {},
   "source": [
    "### Broadcasting feature"
   ]
  },
  {
   "cell_type": "code",
   "execution_count": 73,
   "id": "48978e33-4934-4122-98da-e5edd18b4a62",
   "metadata": {},
   "outputs": [
    {
     "data": {
      "text/plain": [
       "array([1, 2, 3, 4, 5, 6, 7, 8, 9])"
      ]
     },
     "execution_count": 73,
     "metadata": {},
     "output_type": "execute_result"
    }
   ],
   "source": [
    "mynumpyarray01 = np.arange(1, 10)\n",
    "mynumpyarray01"
   ]
  },
  {
   "cell_type": "code",
   "execution_count": 74,
   "id": "19410c13-91c3-4e3d-a7ae-a17348907edb",
   "metadata": {},
   "outputs": [
    {
     "data": {
      "text/plain": [
       "array([11, 12, 13, 14, 15, 16, 17, 18, 19])"
      ]
     },
     "execution_count": 74,
     "metadata": {},
     "output_type": "execute_result"
    }
   ],
   "source": [
    "mynumpyarray02 = np.arange(11, 20)\n",
    "mynumpyarray02"
   ]
  },
  {
   "cell_type": "code",
   "execution_count": 75,
   "id": "41f084e9-22fa-4e38-ba84-b13e70554412",
   "metadata": {},
   "outputs": [
    {
     "data": {
      "text/plain": [
       "array([12, 14, 16, 18, 20, 22, 24, 26, 28])"
      ]
     },
     "execution_count": 75,
     "metadata": {},
     "output_type": "execute_result"
    }
   ],
   "source": [
    "mynumpyarray01 + mynumpyarray02 # broadcasting"
   ]
  },
  {
   "cell_type": "code",
   "execution_count": 76,
   "id": "f7402a0d-b283-445f-b089-884d1f587660",
   "metadata": {},
   "outputs": [
    {
     "data": {
      "text/plain": [
       "array([10, 10, 10, 10, 10, 10, 10, 10, 10])"
      ]
     },
     "execution_count": 76,
     "metadata": {},
     "output_type": "execute_result"
    }
   ],
   "source": [
    "mynumpyarray02 - mynumpyarray01"
   ]
  },
  {
   "cell_type": "code",
   "execution_count": 77,
   "id": "e9b0e8ff-51ef-49bb-a113-2f6e79552d2d",
   "metadata": {},
   "outputs": [
    {
     "data": {
      "text/plain": [
       "array([ 11,  24,  39,  56,  75,  96, 119, 144, 171])"
      ]
     },
     "execution_count": 77,
     "metadata": {},
     "output_type": "execute_result"
    }
   ],
   "source": [
    "mynumpyarray01 * mynumpyarray02"
   ]
  },
  {
   "cell_type": "code",
   "execution_count": 78,
   "id": "fc14619c-7031-42f4-9890-7e3b975ee298",
   "metadata": {},
   "outputs": [
    {
     "data": {
      "text/plain": [
       "array([11.        ,  6.        ,  4.33333333,  3.5       ,  3.        ,\n",
       "        2.66666667,  2.42857143,  2.25      ,  2.11111111])"
      ]
     },
     "execution_count": 78,
     "metadata": {},
     "output_type": "execute_result"
    }
   ],
   "source": [
    "mynumpyarray02 / mynumpyarray01"
   ]
  },
  {
   "cell_type": "code",
   "execution_count": 79,
   "id": "59b38e4e-714b-4225-b35d-f57aaaf2e1fd",
   "metadata": {},
   "outputs": [
    {
     "data": {
      "text/plain": [
       "array([11,  6,  4,  3,  3,  2,  2,  2,  2])"
      ]
     },
     "execution_count": 79,
     "metadata": {},
     "output_type": "execute_result"
    }
   ],
   "source": [
    "mynumpyarray02 // mynumpyarray01"
   ]
  },
  {
   "cell_type": "code",
   "execution_count": 80,
   "id": "c2b71103-ce46-4eb3-aaf2-0cf15bac2c0a",
   "metadata": {},
   "outputs": [
    {
     "data": {
      "text/plain": [
       "array([0, 0, 1, 2, 0, 4, 3, 2, 1])"
      ]
     },
     "execution_count": 80,
     "metadata": {},
     "output_type": "execute_result"
    }
   ],
   "source": [
    "mynumpyarray02 % mynumpyarray01"
   ]
  },
  {
   "cell_type": "code",
   "execution_count": 81,
   "id": "29e8f514-61f2-4de7-afbd-2bfacda5e6c7",
   "metadata": {},
   "outputs": [
    {
     "data": {
      "text/plain": [
       "array([1, 2, 3, 4, 5, 6, 7, 8, 9])"
      ]
     },
     "execution_count": 81,
     "metadata": {},
     "output_type": "execute_result"
    }
   ],
   "source": [
    "mynumpyarray01 = np.arange(1, 10)\n",
    "mynumpyarray01"
   ]
  },
  {
   "cell_type": "code",
   "execution_count": 82,
   "id": "b6b91c43-943a-4c8a-a2d0-6cc3b3a34796",
   "metadata": {},
   "outputs": [
    {
     "data": {
      "text/plain": [
       "array([ 6,  7,  8,  9, 10, 11, 12, 13, 14])"
      ]
     },
     "execution_count": 82,
     "metadata": {},
     "output_type": "execute_result"
    }
   ],
   "source": [
    "mynumpyarray01 + 5"
   ]
  },
  {
   "cell_type": "code",
   "execution_count": 83,
   "id": "81c0e281-1cda-419a-9c5c-f3e292c57c27",
   "metadata": {},
   "outputs": [
    {
     "data": {
      "text/plain": [
       "array([0, 1, 2, 3, 4, 5, 6, 7, 8])"
      ]
     },
     "execution_count": 83,
     "metadata": {},
     "output_type": "execute_result"
    }
   ],
   "source": [
    "mynumpyarray01 - 1"
   ]
  },
  {
   "cell_type": "code",
   "execution_count": 84,
   "id": "2b9a78d4-2eac-4b4a-b781-732db067b507",
   "metadata": {},
   "outputs": [
    {
     "data": {
      "text/plain": [
       "array([ 5, 10, 15, 20, 25, 30, 35, 40, 45])"
      ]
     },
     "execution_count": 84,
     "metadata": {},
     "output_type": "execute_result"
    }
   ],
   "source": [
    "mynumpyarray01 * 5"
   ]
  },
  {
   "cell_type": "markdown",
   "id": "047099c4-df98-4159-805b-2f9016476cb5",
   "metadata": {},
   "source": [
    "### Methods and Universal Functions"
   ]
  },
  {
   "cell_type": "code",
   "execution_count": 85,
   "id": "1be160db-f287-428c-9af1-3f2d96892885",
   "metadata": {},
   "outputs": [
    {
     "data": {
      "text/plain": [
       "array([1, 2, 3, 4, 5, 6, 7, 8, 9])"
      ]
     },
     "execution_count": 85,
     "metadata": {},
     "output_type": "execute_result"
    }
   ],
   "source": [
    "mynumpyarray01 = np.arange(1, 10)\n",
    "mynumpyarray01"
   ]
  },
  {
   "cell_type": "code",
   "execution_count": 86,
   "id": "d7c91d55-761d-4f5f-94b3-ed30c6b2fd08",
   "metadata": {},
   "outputs": [
    {
     "data": {
      "text/plain": [
       "np.int64(9)"
      ]
     },
     "execution_count": 86,
     "metadata": {},
     "output_type": "execute_result"
    }
   ],
   "source": [
    "# using object.method we can get the maximum number\n",
    "mynumpyarray01.max()"
   ]
  },
  {
   "cell_type": "code",
   "execution_count": 87,
   "id": "c8411ccc-a2c5-4f2d-ac7f-9abb54058636",
   "metadata": {},
   "outputs": [
    {
     "data": {
      "text/plain": [
       "np.int64(1)"
      ]
     },
     "execution_count": 87,
     "metadata": {},
     "output_type": "execute_result"
    }
   ],
   "source": [
    "# using object.method we can get the minimum number\n",
    "mynumpyarray01.min()"
   ]
  },
  {
   "cell_type": "code",
   "execution_count": 88,
   "id": "4e74b863-ea08-49ab-82ee-164a3911e738",
   "metadata": {},
   "outputs": [
    {
     "data": {
      "text/plain": [
       "np.int64(9)"
      ]
     },
     "execution_count": 88,
     "metadata": {},
     "output_type": "execute_result"
    }
   ],
   "source": [
    "# however the numpy users do not prefer the object.method approach\n",
    "# So numpy team created functions inside the numpy module\n",
    "# which performs and output the same result\n",
    "np.max(mynumpyarray01)\n",
    "# over here max is not a method it is a function inside the module numpy\n",
    "# such functions are called universal functions"
   ]
  },
  {
   "cell_type": "code",
   "execution_count": 89,
   "id": "8786d4fc-8c4a-4f87-91d5-e6f19a9deda5",
   "metadata": {},
   "outputs": [
    {
     "data": {
      "text/plain": [
       "np.int64(11)"
      ]
     },
     "execution_count": 89,
     "metadata": {},
     "output_type": "execute_result"
    }
   ],
   "source": [
    "np.min(mynumpyarray02)"
   ]
  },
  {
   "cell_type": "code",
   "execution_count": 90,
   "id": "f9575682-d35c-45ac-86f8-81ea3489edeb",
   "metadata": {},
   "outputs": [
    {
     "data": {
      "text/plain": [
       "np.int64(135)"
      ]
     },
     "execution_count": 90,
     "metadata": {},
     "output_type": "execute_result"
    }
   ],
   "source": [
    "np.sum(mynumpyarray02)"
   ]
  },
  {
   "cell_type": "code",
   "execution_count": 91,
   "id": "c034579f-411d-40d0-abf1-2097c490f903",
   "metadata": {},
   "outputs": [
    {
     "data": {
      "text/plain": [
       "np.float64(15.0)"
      ]
     },
     "execution_count": 91,
     "metadata": {},
     "output_type": "execute_result"
    }
   ],
   "source": [
    "np.mean(mynumpyarray02)"
   ]
  },
  {
   "cell_type": "code",
   "execution_count": 92,
   "id": "53a8abf2-d459-42f1-abcb-78d094443de8",
   "metadata": {},
   "outputs": [
    {
     "data": {
      "text/plain": [
       "np.float64(15.0)"
      ]
     },
     "execution_count": 92,
     "metadata": {},
     "output_type": "execute_result"
    }
   ],
   "source": [
    "np.median(mynumpyarray02)"
   ]
  },
  {
   "cell_type": "code",
   "execution_count": 93,
   "id": "dabbaf1f-5312-4f1b-9f79-5bbe8b3bbb23",
   "metadata": {},
   "outputs": [
    {
     "data": {
      "text/plain": [
       "np.float64(2.581988897471611)"
      ]
     },
     "execution_count": 93,
     "metadata": {},
     "output_type": "execute_result"
    }
   ],
   "source": [
    "np.std(mynumpyarray02)"
   ]
  },
  {
   "cell_type": "code",
   "execution_count": 94,
   "id": "90da2454-8cbc-4dee-83a4-b2953726c14d",
   "metadata": {},
   "outputs": [
    {
     "data": {
      "text/plain": [
       "np.float64(6.666666666666667)"
      ]
     },
     "execution_count": 94,
     "metadata": {},
     "output_type": "execute_result"
    }
   ],
   "source": [
    "np.var(mynumpyarray02)"
   ]
  },
  {
   "cell_type": "markdown",
   "id": "80c9f67e-3756-41d9-a49f-2e0bc058b49b",
   "metadata": {},
   "source": [
    "### Matrix operations"
   ]
  },
  {
   "cell_type": "code",
   "execution_count": 95,
   "id": "0a774d4b-ff59-453c-8043-265370a8c0e5",
   "metadata": {},
   "outputs": [
    {
     "data": {
      "text/plain": [
       "array([[1, 2],\n",
       "       [3, 4]])"
      ]
     },
     "execution_count": 95,
     "metadata": {},
     "output_type": "execute_result"
    }
   ],
   "source": [
    "mymatrix01 = np.array([[1, 2], [3, 4]])\n",
    "mymatrix01"
   ]
  },
  {
   "cell_type": "code",
   "execution_count": 96,
   "id": "55631a7b-3300-4639-ba1d-0ea81751fee5",
   "metadata": {},
   "outputs": [
    {
     "data": {
      "text/plain": [
       "array([[1, 2],\n",
       "       [3, 4]])"
      ]
     },
     "execution_count": 96,
     "metadata": {},
     "output_type": "execute_result"
    }
   ],
   "source": [
    "mymatrix02 = np.array([[1, 2], [3, 4]])\n",
    "mymatrix02"
   ]
  },
  {
   "cell_type": "code",
   "execution_count": 97,
   "id": "cbf36370-d99b-47f4-b791-f65ba6f6e891",
   "metadata": {},
   "outputs": [
    {
     "data": {
      "text/plain": [
       "array([[2, 4],\n",
       "       [6, 8]])"
      ]
     },
     "execution_count": 97,
     "metadata": {},
     "output_type": "execute_result"
    }
   ],
   "source": [
    "mymatrix01 + mymatrix02"
   ]
  },
  {
   "cell_type": "code",
   "execution_count": 98,
   "id": "60086b89-ee15-4586-81e3-8b775a2a776c",
   "metadata": {},
   "outputs": [
    {
     "data": {
      "text/plain": [
       "array([[0, 0],\n",
       "       [0, 0]])"
      ]
     },
     "execution_count": 98,
     "metadata": {},
     "output_type": "execute_result"
    }
   ],
   "source": [
    "mymatrix01 - mymatrix02"
   ]
  },
  {
   "cell_type": "code",
   "execution_count": 99,
   "id": "8d45cd38-7407-4d63-af00-d714451077f9",
   "metadata": {},
   "outputs": [
    {
     "data": {
      "text/plain": [
       "array([[ 1,  4],\n",
       "       [ 9, 16]])"
      ]
     },
     "execution_count": 99,
     "metadata": {},
     "output_type": "execute_result"
    }
   ],
   "source": [
    "mymatrix01 * mymatrix02"
   ]
  },
  {
   "cell_type": "code",
   "execution_count": 100,
   "id": "38a9d77e-000d-4526-be6c-8231cdb16b47",
   "metadata": {},
   "outputs": [
    {
     "data": {
      "text/plain": [
       "array([[ 7, 10],\n",
       "       [15, 22]])"
      ]
     },
     "execution_count": 100,
     "metadata": {},
     "output_type": "execute_result"
    }
   ],
   "source": [
    "# cartesian matrix multiplication \n",
    "mymatrix01.dot(mymatrix02)"
   ]
  },
  {
   "cell_type": "code",
   "execution_count": 101,
   "id": "623cae05-7688-4db7-a687-d0243c998a7c",
   "metadata": {},
   "outputs": [
    {
     "data": {
      "text/plain": [
       "array([[1, 3],\n",
       "       [2, 4]])"
      ]
     },
     "execution_count": 101,
     "metadata": {},
     "output_type": "execute_result"
    }
   ],
   "source": [
    "mymatrix01.T # transpose"
   ]
  },
  {
   "cell_type": "markdown",
   "id": "9f979e80-64a3-45b5-bfec-e282622801c0",
   "metadata": {},
   "source": [
    "### You can also change the data type of the numpy array after it gets created"
   ]
  },
  {
   "cell_type": "code",
   "execution_count": 102,
   "id": "aa70b566-a1f0-4873-8720-6c80237ed0b7",
   "metadata": {},
   "outputs": [
    {
     "data": {
      "text/plain": [
       "array([0, 1, 2, 3, 4, 5, 6, 7, 8, 9])"
      ]
     },
     "execution_count": 102,
     "metadata": {},
     "output_type": "execute_result"
    }
   ],
   "source": [
    "mynumpyarray = np.arange(0, 10)\n",
    "mynumpyarray"
   ]
  },
  {
   "cell_type": "code",
   "execution_count": 103,
   "id": "6b55bb6a-6e68-4e65-ae68-300018759801",
   "metadata": {},
   "outputs": [
    {
     "data": {
      "text/plain": [
       "dtype('int64')"
      ]
     },
     "execution_count": 103,
     "metadata": {},
     "output_type": "execute_result"
    }
   ],
   "source": [
    "mynumpyarray.dtype"
   ]
  },
  {
   "cell_type": "code",
   "execution_count": 104,
   "id": "b3e4fea8-c10b-40b2-8fbd-2e9fb40bff4f",
   "metadata": {},
   "outputs": [
    {
     "data": {
      "text/plain": [
       "array([0, 1, 2, 3, 4, 5, 6, 7, 8, 9], dtype=int8)"
      ]
     },
     "execution_count": 104,
     "metadata": {},
     "output_type": "execute_result"
    }
   ],
   "source": [
    "mynumpyarray = mynumpyarray.astype('int8')\n",
    "mynumpyarray"
   ]
  },
  {
   "cell_type": "code",
   "execution_count": null,
   "id": "639ba802-a912-49f0-9513-1ed71a7f66d5",
   "metadata": {},
   "outputs": [],
   "source": []
  }
 ],
 "metadata": {
  "kernelspec": {
   "display_name": "Python 3 (ipykernel)",
   "language": "python",
   "name": "python3"
  },
  "language_info": {
   "codemirror_mode": {
    "name": "ipython",
    "version": 3
   },
   "file_extension": ".py",
   "mimetype": "text/x-python",
   "name": "python",
   "nbconvert_exporter": "python",
   "pygments_lexer": "ipython3",
   "version": "3.12.4"
  }
 },
 "nbformat": 4,
 "nbformat_minor": 5
}
