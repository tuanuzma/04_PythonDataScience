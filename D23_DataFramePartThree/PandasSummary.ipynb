{
 "cells": [
  {
   "cell_type": "markdown",
   "id": "e563ef2a-10eb-4149-96ad-d5948e0382e5",
   "metadata": {},
   "source": [
    "**Basic Data Structures**\n",
    "1) Series\n",
    "2) DataFrame"
   ]
  },
  {
   "cell_type": "markdown",
   "id": "8ff43f9f-e152-466b-9a8b-9a2bf10889b5",
   "metadata": {},
   "source": [
    "**Data Creation**\n",
    "1) pd.Series\n",
    "2) pd.DataFrame\n",
    "\n",
    "**Data Import / Export**\n",
    "1) CSV (read_csv / to_csv)\n",
    "2) Excel\n",
    "3) JSON\n",
    "4) SQL Databases\n",
    "5) HDFS"
   ]
  },
  {
   "cell_type": "markdown",
   "id": "826002ee-e1d5-42fe-a86c-48b4d0fc3845",
   "metadata": {},
   "source": [
    "**Data Inspection and Data Exploration**\n",
    "1) Viewing the Data Frame (head, tail, sample)\n",
    "2) Data Frame Analaysis (info, shape)\n",
    "3) Statistical Analysis (Describe, min, max, percentile, mean, median, mode)\n",
    "4) Selection and Indexing (loc, iloc, drop)"
   ]
  },
  {
   "cell_type": "markdown",
   "id": "9f1421e2-cda8-4d1f-a2f8-bcb701ecb3b7",
   "metadata": {},
   "source": [
    "**Data Cleaning and Data Preparation**\n",
    "1) Handling missing data (dropna, fillna)\n",
    "2) Data type conversion (astype)\n",
    "3) Remove duplicates (drop_duplicates)\n",
    "4) String operations and manipulations\n",
    "5) Renaming columns and indices"
   ]
  },
  {
   "cell_type": "markdown",
   "id": "44f5a35e-52e0-48c2-b6ca-c3338f905b13",
   "metadata": {},
   "source": [
    "**Data selection and filtering**\n",
    "\n",
    "1) Boolean indexing\n",
    "2) Conditional filtering\n",
    "3) Selecting specific rows and columns"
   ]
  },
  {
   "cell_type": "markdown",
   "id": "07841a6d-2858-494d-a4fc-e015135a7e5c",
   "metadata": {},
   "source": [
    "**Merging and Joining**\n",
    "\n",
    "1) Combining dataframes (concat)\n",
    "2) Merging dataframe (merge, join)\n",
    "3) Handing index based join"
   ]
  },
  {
   "cell_type": "markdown",
   "id": "1cadfbab-e3ed-4019-91b6-11f643e28069",
   "metadata": {},
   "source": [
    "**Data Transformation**\n",
    "\n",
    "1) Apply function (apply)\n",
    "2) Aggregation and group operations (groupby, agg, transform)\n",
    "3) Pivoting and reshapping (pivot, pivot_table)\n",
    "4) Sorting (sort_values, sort_index)"
   ]
  },
  {
   "cell_type": "markdown",
   "id": "921f07a6-d9ca-44c1-9941-c52c0975af92",
   "metadata": {},
   "source": [
    "**Time Series Analysis**\n",
    "\n",
    "1) Working with Data and Time\n",
    "2) Resampling and frequency conversion\n",
    "3) Time based indexing and slicing"
   ]
  },
  {
   "cell_type": "markdown",
   "id": "dfc9353f-cbfc-48cc-bb40-0264fe1c47b4",
   "metadata": {},
   "source": [
    "**Handling categorical data**\n",
    "1) Categorical data types and methods\n",
    "2) Encoding and decoding categorical variables\n",
    "\n"
   ]
  },
  {
   "cell_type": "markdown",
   "id": "2f69fb0b-33b5-4aa5-b49c-a54257eb5540",
   "metadata": {},
   "source": [
    "<p>\n",
    "When you see a column with numerical value less work need<br/>\n",
    "When you see string you need to see whether it is categorical or not<br/>\n",
    "When you see date you can convert it to day, month and year\n",
    "</p>"
   ]
  },
  {
   "cell_type": "markdown",
   "id": "c662290e-4926-479d-a838-c3f6186e6ff3",
   "metadata": {},
   "source": [
    "**Visualization**\n",
    "1) plot method\n",
    "2) Dataframe can be integrated with matplotlib and seaborn"
   ]
  },
  {
   "cell_type": "code",
   "execution_count": null,
   "id": "e810c3d9-495a-4b1f-8f20-853d3ad54fb0",
   "metadata": {},
   "outputs": [],
   "source": []
  }
 ],
 "metadata": {
  "kernelspec": {
   "display_name": "Python 3 (ipykernel)",
   "language": "python",
   "name": "python3"
  },
  "language_info": {
   "codemirror_mode": {
    "name": "ipython",
    "version": 3
   },
   "file_extension": ".py",
   "mimetype": "text/x-python",
   "name": "python",
   "nbconvert_exporter": "python",
   "pygments_lexer": "ipython3",
   "version": "3.12.4"
  }
 },
 "nbformat": 4,
 "nbformat_minor": 5
}
