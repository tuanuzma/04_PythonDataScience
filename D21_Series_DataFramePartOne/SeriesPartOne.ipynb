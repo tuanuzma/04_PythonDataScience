{
 "cells": [
  {
   "cell_type": "code",
   "execution_count": 1,
   "id": "9586fd66-af01-494e-83bc-28cfd95f083e",
   "metadata": {},
   "outputs": [],
   "source": [
    "import pandas as pd\n",
    "import numpy as np"
   ]
  },
  {
   "cell_type": "code",
   "execution_count": 2,
   "id": "263498f1-4f26-4396-a9c9-aa9358220778",
   "metadata": {},
   "outputs": [
    {
     "data": {
      "text/plain": [
       "[10, 20, 30, 40, 50]"
      ]
     },
     "execution_count": 2,
     "metadata": {},
     "output_type": "execute_result"
    }
   ],
   "source": [
    "data = [10, 20, 30, 40, 50]\n",
    "data"
   ]
  },
  {
   "cell_type": "code",
   "execution_count": 3,
   "id": "72de2cda-522a-4071-9efb-8278798cf20c",
   "metadata": {},
   "outputs": [
    {
     "data": {
      "text/plain": [
       "0    10\n",
       "1    20\n",
       "2    30\n",
       "3    40\n",
       "4    50\n",
       "dtype: int64"
      ]
     },
     "execution_count": 3,
     "metadata": {},
     "output_type": "execute_result"
    }
   ],
   "source": [
    "# creating a series using data in a list\n",
    "# since we never give any index it is automatically generated\n",
    "myfirstseries = pd.Series(data)\n",
    "myfirstseries\n",
    "# the axis labels are called index"
   ]
  },
  {
   "cell_type": "code",
   "execution_count": 4,
   "id": "d11de6cc-a6fa-47aa-9dee-921ad93cf4b5",
   "metadata": {},
   "outputs": [
    {
     "data": {
      "text/plain": [
       "['apple', 'orange', 'mango', 'banana', 'grapes']"
      ]
     },
     "execution_count": 4,
     "metadata": {},
     "output_type": "execute_result"
    }
   ],
   "source": [
    "data = ['apple', 'orange', 'mango', 'banana', 'grapes']\n",
    "data"
   ]
  },
  {
   "cell_type": "code",
   "execution_count": 5,
   "id": "8183728a-5d47-4996-8c8b-610135c3f8ed",
   "metadata": {},
   "outputs": [
    {
     "data": {
      "text/plain": [
       "0     apple\n",
       "1    orange\n",
       "2     mango\n",
       "3    banana\n",
       "4    grapes\n",
       "dtype: object"
      ]
     },
     "execution_count": 5,
     "metadata": {},
     "output_type": "execute_result"
    }
   ],
   "source": [
    "# creating a series using data in a list\n",
    "# since we never give any index it is automatically generated\n",
    "mysecondseries = pd.Series(data)\n",
    "mysecondseries"
   ]
  },
  {
   "cell_type": "code",
   "execution_count": 6,
   "id": "d77e4bc5-be86-454b-b50a-32fc2bfe798f",
   "metadata": {},
   "outputs": [
    {
     "data": {
      "text/plain": [
       "Johor       3794000\n",
       "Kedah       2194100\n",
       "Kelantan    1928800\n",
       "Malacca      937500\n",
       "Pahang      1684600\n",
       "dtype: int64"
      ]
     },
     "execution_count": 6,
     "metadata": {},
     "output_type": "execute_result"
    }
   ],
   "source": [
    "# creating a series using data in a list and index in another list\n",
    "data = [3794000, 2194100, 1928800, 937500, 1684600]\n",
    "index = ['Johor', 'Kedah', 'Kelantan', 'Malacca', 'Pahang']\n",
    "mypopulationseries = pd.Series(data, index)\n",
    "mypopulationseries"
   ]
  },
  {
   "cell_type": "code",
   "execution_count": 7,
   "id": "cb8b3d5f-1efa-4654-bac5-b1d64a79c4e5",
   "metadata": {},
   "outputs": [
    {
     "data": {
      "text/plain": [
       "Johor       3794000\n",
       "Kedah       2194100\n",
       "Kelantan    1928800\n",
       "Malacca      937500\n",
       "Pahang      1684600\n",
       "dtype: int64"
      ]
     },
     "execution_count": 7,
     "metadata": {},
     "output_type": "execute_result"
    }
   ],
   "source": [
    "# creating a series using dictionary\n",
    "data = {\n",
    "    'Johor':3794000, \n",
    "    'Kedah':2194100, \n",
    "    'Kelantan':1928800, \n",
    "    'Malacca':937500, \n",
    "    'Pahang':1684600\n",
    "}\n",
    "mypopulationseries = pd.Series(data)\n",
    "mypopulationseries"
   ]
  },
  {
   "cell_type": "code",
   "execution_count": 8,
   "id": "1087816c-6246-4da9-8519-4c9da669acef",
   "metadata": {},
   "outputs": [
    {
     "data": {
      "text/plain": [
       "Kedah       2194100\n",
       "Kelantan    1928800\n",
       "dtype: int64"
      ]
     },
     "execution_count": 8,
     "metadata": {},
     "output_type": "execute_result"
    }
   ],
   "source": [
    "# creating a series using dictionary and index in a list\n",
    "data = {\n",
    "    'Johor':3794000, \n",
    "    'Kedah':2194100, \n",
    "    'Kelantan':1928800, \n",
    "    'Malacca':937500, \n",
    "    'Pahang':1684600\n",
    "}\n",
    "index = ['Kedah', 'Kelantan']\n",
    "mypopulationseries = pd.Series(data, index)\n",
    "mypopulationseries"
   ]
  },
  {
   "cell_type": "markdown",
   "id": "4fbed2fb-a292-4271-af8b-5c8648b60384",
   "metadata": {},
   "source": [
    "### Selection and Indexing"
   ]
  },
  {
   "cell_type": "code",
   "execution_count": 9,
   "id": "c54bce04-b4b7-4e0e-9fc5-919d8c2caad7",
   "metadata": {},
   "outputs": [
    {
     "data": {
      "text/plain": [
       "0     apple\n",
       "1    orange\n",
       "2     mango\n",
       "3    banana\n",
       "4    grapes\n",
       "dtype: object"
      ]
     },
     "execution_count": 9,
     "metadata": {},
     "output_type": "execute_result"
    }
   ],
   "source": [
    "mysecondseries"
   ]
  },
  {
   "cell_type": "code",
   "execution_count": 10,
   "id": "f3814d3e-7e4e-4211-b008-fc623ebb1935",
   "metadata": {},
   "outputs": [
    {
     "data": {
      "text/plain": [
       "'apple'"
      ]
     },
     "execution_count": 10,
     "metadata": {},
     "output_type": "execute_result"
    }
   ],
   "source": [
    "# you can treat it like numpy array and try to retrieve values\n",
    "# however negative index is not supported\n",
    "mysecondseries[0]"
   ]
  },
  {
   "cell_type": "code",
   "execution_count": 11,
   "id": "8c32d8ba-9a32-4dc3-92e9-455cf584d506",
   "metadata": {},
   "outputs": [
    {
     "data": {
      "text/plain": [
       "0     apple\n",
       "1    orange\n",
       "2     mango\n",
       "dtype: object"
      ]
     },
     "execution_count": 11,
     "metadata": {},
     "output_type": "execute_result"
    }
   ],
   "source": [
    "# range is allowed\n",
    "mysecondseries[0:3]"
   ]
  },
  {
   "cell_type": "code",
   "execution_count": 12,
   "id": "864557c9-b854-4bc6-be48-8128c3de6fd3",
   "metadata": {},
   "outputs": [
    {
     "data": {
      "text/plain": [
       "0     apple\n",
       "2     mango\n",
       "4    grapes\n",
       "dtype: object"
      ]
     },
     "execution_count": 12,
     "metadata": {},
     "output_type": "execute_result"
    }
   ],
   "source": [
    "# since no start index start from 0\n",
    "# since no end index goes all the way to the last item\n",
    "# since we have 3rd parameter it step up by 2\n",
    "mysecondseries[::2]"
   ]
  },
  {
   "cell_type": "code",
   "execution_count": 13,
   "id": "4a106e62-7ef6-48d8-bf9a-22de38ac8a02",
   "metadata": {},
   "outputs": [
    {
     "data": {
      "text/plain": [
       "Johor       3794000\n",
       "Kedah       2194100\n",
       "Kelantan    1928800\n",
       "Malacca      937500\n",
       "Pahang      1684600\n",
       "dtype: int64"
      ]
     },
     "execution_count": 13,
     "metadata": {},
     "output_type": "execute_result"
    }
   ],
   "source": [
    "data = {\n",
    "    'Johor':3794000, \n",
    "    'Kedah':2194100, \n",
    "    'Kelantan':1928800, \n",
    "    'Malacca':937500, \n",
    "    'Pahang':1684600\n",
    "}\n",
    "mypopulationseries = pd.Series(data)\n",
    "mypopulationseries"
   ]
  },
  {
   "cell_type": "code",
   "execution_count": 14,
   "id": "9d435d75-558e-41ac-b652-dfde0c0d5484",
   "metadata": {},
   "outputs": [
    {
     "data": {
      "text/plain": [
       "np.int64(3794000)"
      ]
     },
     "execution_count": 14,
     "metadata": {},
     "output_type": "execute_result"
    }
   ],
   "source": [
    "# you can treat it like dictionary and try to retrieve values\n",
    "mypopulationseries['Johor']"
   ]
  },
  {
   "cell_type": "code",
   "execution_count": 15,
   "id": "63991b55-89bf-4e76-b062-398bdc5708df",
   "metadata": {},
   "outputs": [
    {
     "data": {
      "text/plain": [
       "Johor    3794000\n",
       "Kedah    2194100\n",
       "dtype: int64"
      ]
     },
     "execution_count": 15,
     "metadata": {},
     "output_type": "execute_result"
    }
   ],
   "source": [
    "# however this cannot be done in dictionary\n",
    "mypopulationseries[['Johor', 'Kedah']]"
   ]
  },
  {
   "cell_type": "code",
   "execution_count": 16,
   "id": "4f0521c8-20a0-4d65-9d66-b71cecb906a7",
   "metadata": {},
   "outputs": [
    {
     "data": {
      "text/plain": [
       "0     apple\n",
       "2     mango\n",
       "4    grapes\n",
       "dtype: object"
      ]
     },
     "execution_count": 16,
     "metadata": {},
     "output_type": "execute_result"
    }
   ],
   "source": [
    "mysecondseries[[0, 2, 4]]"
   ]
  },
  {
   "cell_type": "code",
   "execution_count": 17,
   "id": "ac5ca718-c645-4ab2-859d-5d2f242a376e",
   "metadata": {},
   "outputs": [
    {
     "data": {
      "text/plain": [
       "0     apple\n",
       "2     mango\n",
       "4    grapes\n",
       "dtype: object"
      ]
     },
     "execution_count": 17,
     "metadata": {},
     "output_type": "execute_result"
    }
   ],
   "source": [
    "# Series has a property loc which can also be used to pull out\n",
    "# rows in a series using the generated index\n",
    "mysecondseries.loc[[0, 2, 4]]"
   ]
  },
  {
   "cell_type": "code",
   "execution_count": 18,
   "id": "450afe82-2d43-4794-beff-c0c9c86d3050",
   "metadata": {},
   "outputs": [
    {
     "data": {
      "text/plain": [
       "Johor      3794000\n",
       "Kedah      2194100\n",
       "Malacca     937500\n",
       "dtype: int64"
      ]
     },
     "execution_count": 18,
     "metadata": {},
     "output_type": "execute_result"
    }
   ],
   "source": [
    "# Series has a property loc which can also be used to pull out\n",
    "# rows in a series using the created index\n",
    "mypopulationseries.loc[['Johor', 'Kedah', 'Malacca']]"
   ]
  },
  {
   "cell_type": "code",
   "execution_count": 19,
   "id": "15689a68-96a1-47f7-8825-183a139ab346",
   "metadata": {},
   "outputs": [
    {
     "data": {
      "text/plain": [
       "np.int64(3794000)"
      ]
     },
     "execution_count": 19,
     "metadata": {},
     "output_type": "execute_result"
    }
   ],
   "source": [
    "# Does mypopulationseries has generated index ?\n",
    "# The index 0, 1, 2 ... is still generated eventhough we pass \n",
    "# our index to the series creation\n",
    "# How can i use that generated index an pull out the items\n",
    "# there is another property called iloc using that we can pass\n",
    "# the generated index and pull out the items\n",
    "\n",
    "# mypopulationseries['Johor']\n",
    "# mypopulationseries.loc['Johor']\n",
    "mypopulationseries.iloc[0]"
   ]
  },
  {
   "cell_type": "code",
   "execution_count": 20,
   "id": "864ba7d7-a660-4376-b3e6-290088ada308",
   "metadata": {},
   "outputs": [
    {
     "data": {
      "text/plain": [
       "Johor       3794000\n",
       "Kedah       2194100\n",
       "Kelantan    1928800\n",
       "Malacca      937500\n",
       "dtype: int64"
      ]
     },
     "execution_count": 20,
     "metadata": {},
     "output_type": "execute_result"
    }
   ],
   "source": [
    "mypopulationseries.iloc[0:4]"
   ]
  },
  {
   "cell_type": "code",
   "execution_count": 21,
   "id": "1b0c2efb-332a-4285-83b4-c9a419f2b17f",
   "metadata": {},
   "outputs": [
    {
     "data": {
      "text/plain": [
       "Johor       3794000\n",
       "Kelantan    1928800\n",
       "Pahang      1684600\n",
       "dtype: int64"
      ]
     },
     "execution_count": 21,
     "metadata": {},
     "output_type": "execute_result"
    }
   ],
   "source": [
    "mypopulationseries.iloc[[0, 2, 4]]"
   ]
  },
  {
   "cell_type": "code",
   "execution_count": 22,
   "id": "174b81a3-cbe4-46df-ab66-287227a92050",
   "metadata": {},
   "outputs": [
    {
     "data": {
      "text/plain": [
       "Johor       3794000\n",
       "Kedah       2194100\n",
       "Kelantan    1928800\n",
       "Malacca      937500\n",
       "Pahang      1684600\n",
       "dtype: int32"
      ]
     },
     "execution_count": 22,
     "metadata": {},
     "output_type": "execute_result"
    }
   ],
   "source": [
    "mypopulationseries = mypopulationseries.astype('int32')\n",
    "mypopulationseries"
   ]
  },
  {
   "cell_type": "code",
   "execution_count": 23,
   "id": "e4e4ec03-f3a7-40a4-9cf8-c8c564ecf54d",
   "metadata": {},
   "outputs": [
    {
     "data": {
      "text/plain": [
       "dtype('int32')"
      ]
     },
     "execution_count": 23,
     "metadata": {},
     "output_type": "execute_result"
    }
   ],
   "source": [
    "mypopulationseries.dtype"
   ]
  },
  {
   "cell_type": "code",
   "execution_count": 24,
   "id": "754f746d-ac2e-4230-a1ff-61a2f1da9fd9",
   "metadata": {},
   "outputs": [
    {
     "data": {
      "text/plain": [
       "pandas.core.series.Series"
      ]
     },
     "execution_count": 24,
     "metadata": {},
     "output_type": "execute_result"
    }
   ],
   "source": [
    "type(mypopulationseries)"
   ]
  },
  {
   "cell_type": "code",
   "execution_count": 25,
   "id": "edabe0ba-ee85-4a24-bc58-c761b6b9a24b",
   "metadata": {},
   "outputs": [
    {
     "data": {
      "text/plain": [
       "[3794000, 2194100, 1928800, 937500, 1684600]"
      ]
     },
     "execution_count": 25,
     "metadata": {},
     "output_type": "execute_result"
    }
   ],
   "source": [
    "mypopulationlist = mypopulationseries.tolist()\n",
    "mypopulationlist"
   ]
  },
  {
   "cell_type": "markdown",
   "id": "6a8d4269-bd72-4c8a-b9a3-b809c83f6eda",
   "metadata": {},
   "source": [
    "### Arithmetic operations"
   ]
  },
  {
   "cell_type": "code",
   "execution_count": 26,
   "id": "a98a0ae8-1ce2-4775-bcc2-a1898cd167a7",
   "metadata": {},
   "outputs": [
    {
     "data": {
      "text/plain": [
       "Johor       3794000\n",
       "Kedah       2194100\n",
       "Kelantan    1928800\n",
       "Malacca      937500\n",
       "Pahang      1684600\n",
       "dtype: int64"
      ]
     },
     "execution_count": 26,
     "metadata": {},
     "output_type": "execute_result"
    }
   ],
   "source": [
    "data = {\n",
    "    'Johor':3794000, \n",
    "    'Kedah':2194100, \n",
    "    'Kelantan':1928800, \n",
    "    'Malacca':937500, \n",
    "    'Pahang':1684600\n",
    "}\n",
    "mypopulationseries2023 = pd.Series(data)\n",
    "mypopulationseries2023"
   ]
  },
  {
   "cell_type": "code",
   "execution_count": 27,
   "id": "0e78fd90-664f-46a8-8bd7-afa620bf6b5c",
   "metadata": {},
   "outputs": [
    {
     "data": {
      "text/plain": [
       "Johor       3794000\n",
       "Kedah       2194100\n",
       "Kelantan    1928800\n",
       "Penang      1774400\n",
       "Pahang      1684600\n",
       "dtype: int64"
      ]
     },
     "execution_count": 27,
     "metadata": {},
     "output_type": "execute_result"
    }
   ],
   "source": [
    "data = {\n",
    "    'Johor':3794000, \n",
    "    'Kedah':2194100, \n",
    "    'Kelantan':1928800, \n",
    "    'Penang':1774400, \n",
    "    'Pahang':1684600\n",
    "}\n",
    "mypopulationseries2024 = pd.Series(data)\n",
    "mypopulationseries2024"
   ]
  },
  {
   "cell_type": "code",
   "execution_count": 28,
   "id": "9463654a-b580-47b9-ad86-0eda09affd0e",
   "metadata": {},
   "outputs": [
    {
     "data": {
      "text/plain": [
       "Johor       7588000.0\n",
       "Kedah       4388200.0\n",
       "Kelantan    3857600.0\n",
       "Malacca           NaN\n",
       "Pahang      3369200.0\n",
       "Penang            NaN\n",
       "dtype: float64"
      ]
     },
     "execution_count": 28,
     "metadata": {},
     "output_type": "execute_result"
    }
   ],
   "source": [
    "# mypopulationseries2023.add(mypopulationseries2024)\n",
    "mypopulationseries2023 + mypopulationseries2024\n",
    "# since the key does not match it converts the result to NaN"
   ]
  },
  {
   "cell_type": "code",
   "execution_count": 29,
   "id": "bc7f4c40-4989-43a0-8e87-29d67390d55d",
   "metadata": {},
   "outputs": [
    {
     "data": {
      "text/plain": [
       "Johor       0.0\n",
       "Kedah       0.0\n",
       "Kelantan    0.0\n",
       "Malacca     NaN\n",
       "Pahang      0.0\n",
       "Penang      NaN\n",
       "dtype: float64"
      ]
     },
     "execution_count": 29,
     "metadata": {},
     "output_type": "execute_result"
    }
   ],
   "source": [
    "# mypopulationseries2023.sub(mypopulationseries2024)\n",
    "mypopulationseries2023 - mypopulationseries2024"
   ]
  },
  {
   "cell_type": "code",
   "execution_count": 30,
   "id": "c5a6174f-ddce-461d-81b7-4affc79e79b5",
   "metadata": {},
   "outputs": [
    {
     "data": {
      "text/plain": [
       "Johor       1.439444e+13\n",
       "Kedah       4.814075e+12\n",
       "Kelantan    3.720269e+12\n",
       "Malacca              NaN\n",
       "Pahang      2.837877e+12\n",
       "Penang               NaN\n",
       "dtype: float64"
      ]
     },
     "execution_count": 30,
     "metadata": {},
     "output_type": "execute_result"
    }
   ],
   "source": [
    "# mypopulationseries2023.mul(mypopulationseries2024)\n",
    "mypopulationseries2023 * mypopulationseries2024"
   ]
  },
  {
   "cell_type": "code",
   "execution_count": 31,
   "id": "be4bcac7-f98d-4a4d-b54e-843a72c4e08c",
   "metadata": {},
   "outputs": [
    {
     "data": {
      "text/plain": [
       "Johor       1.0\n",
       "Kedah       1.0\n",
       "Kelantan    1.0\n",
       "Malacca     NaN\n",
       "Pahang      1.0\n",
       "Penang      NaN\n",
       "dtype: float64"
      ]
     },
     "execution_count": 31,
     "metadata": {},
     "output_type": "execute_result"
    }
   ],
   "source": [
    "# mypopulationseries2023.div(mypopulationseries2024)\n",
    "mypopulationseries2023 / mypopulationseries2024"
   ]
  },
  {
   "cell_type": "markdown",
   "id": "e76d222b-65ae-4447-9bf5-bee1cf3c1599",
   "metadata": {},
   "source": [
    "### Methods and Universal functions"
   ]
  },
  {
   "cell_type": "code",
   "execution_count": 32,
   "id": "bc166e53-c9ec-4817-8fde-281bdc68d16a",
   "metadata": {},
   "outputs": [
    {
     "data": {
      "text/plain": [
       "np.int64(10539000)"
      ]
     },
     "execution_count": 32,
     "metadata": {},
     "output_type": "execute_result"
    }
   ],
   "source": [
    "# statistical analysis using methods\n",
    "mypopulationseries.sum()"
   ]
  },
  {
   "cell_type": "code",
   "execution_count": 33,
   "id": "92338b0b-55c6-4ffe-afbe-bdfdb4638821",
   "metadata": {},
   "outputs": [
    {
     "data": {
      "text/plain": [
       "np.int64(10539000)"
      ]
     },
     "execution_count": 33,
     "metadata": {},
     "output_type": "execute_result"
    }
   ],
   "source": [
    "# statistical analysis using universal functions\n",
    "np.sum(mypopulationseries)"
   ]
  },
  {
   "cell_type": "code",
   "execution_count": 34,
   "id": "0fc66c50-475c-4778-8345-830bcf481964",
   "metadata": {},
   "outputs": [
    {
     "data": {
      "text/plain": [
       "np.float64(2107800.0)"
      ]
     },
     "execution_count": 34,
     "metadata": {},
     "output_type": "execute_result"
    }
   ],
   "source": [
    "# statistical analysis using methods\n",
    "mypopulationseries.mean()"
   ]
  },
  {
   "cell_type": "code",
   "execution_count": 35,
   "id": "12ffbc51-1199-41b1-9e8f-a64c8c19bbfd",
   "metadata": {},
   "outputs": [
    {
     "data": {
      "text/plain": [
       "np.int64(6)"
      ]
     },
     "execution_count": 35,
     "metadata": {},
     "output_type": "execute_result"
    }
   ],
   "source": [
    "# take every single element in the series and multiply them\n",
    "mydata = pd.Series([1, 2, 3])\n",
    "mydata.prod()"
   ]
  },
  {
   "cell_type": "code",
   "execution_count": 36,
   "id": "6768b7e0-f561-4e5b-a508-12d0e192ab82",
   "metadata": {},
   "outputs": [
    {
     "data": {
      "text/plain": [
       "np.float64(941430.7685645291)"
      ]
     },
     "execution_count": 36,
     "metadata": {},
     "output_type": "execute_result"
    }
   ],
   "source": [
    "np.std(mypopulationseries)"
   ]
  },
  {
   "cell_type": "code",
   "execution_count": 37,
   "id": "cde4fd13-53ee-4381-a8f4-52ecacaddd3c",
   "metadata": {},
   "outputs": [
    {
     "data": {
      "text/plain": [
       "np.float64(886291892000.0)"
      ]
     },
     "execution_count": 37,
     "metadata": {},
     "output_type": "execute_result"
    }
   ],
   "source": [
    "np.var(mypopulationseries)"
   ]
  },
  {
   "cell_type": "code",
   "execution_count": 38,
   "id": "f7cdf3eb-5417-4a8c-8d5a-cc19ee02a22f",
   "metadata": {},
   "outputs": [
    {
     "data": {
      "text/plain": [
       "np.float64(4.0)"
      ]
     },
     "execution_count": 38,
     "metadata": {},
     "output_type": "execute_result"
    }
   ],
   "source": [
    "myfirstseries = pd.Series([2, 4, 6])\n",
    "mysecondseries = pd.Series([1, 3, 5])\n",
    "myfirstseries.cov(mysecondseries) # covariance"
   ]
  },
  {
   "cell_type": "code",
   "execution_count": 39,
   "id": "c88e76c7-5ec3-422e-90e0-87182ef249da",
   "metadata": {},
   "outputs": [
    {
     "data": {
      "text/plain": [
       "np.float64(1.0)"
      ]
     },
     "execution_count": 39,
     "metadata": {},
     "output_type": "execute_result"
    }
   ],
   "source": [
    "myfirstseries.corr(mysecondseries) # correlation value is always between -1 to 1\n",
    "# -1 negatively correlated \n",
    "# -0.5 negatively partially correlated\n",
    "# 0 no relationship\n",
    "# 0.5 positively partially correlated\n",
    "# 1 positively correlated"
   ]
  },
  {
   "cell_type": "code",
   "execution_count": 40,
   "id": "5c34c03e-fb93-4142-9cd7-b521c054e825",
   "metadata": {},
   "outputs": [
    {
     "data": {
      "text/plain": [
       "0     2\n",
       "1     4\n",
       "2     6\n",
       "3     4\n",
       "4     8\n",
       "5    10\n",
       "6     4\n",
       "7     4\n",
       "8    12\n",
       "dtype: int64"
      ]
     },
     "execution_count": 40,
     "metadata": {},
     "output_type": "execute_result"
    }
   ],
   "source": [
    "mythirdseries = pd.Series([2, 4, 6, 4, 8, 10, 4, 4, 12])\n",
    "mythirdseries"
   ]
  },
  {
   "cell_type": "code",
   "execution_count": 41,
   "id": "0d7947c4-7db7-4d69-8c67-c10d89cbff43",
   "metadata": {},
   "outputs": [
    {
     "data": {
      "text/plain": [
       "9"
      ]
     },
     "execution_count": 41,
     "metadata": {},
     "output_type": "execute_result"
    }
   ],
   "source": [
    "mythirdseries.size  # how many values"
   ]
  },
  {
   "cell_type": "code",
   "execution_count": 42,
   "id": "0bc9efbc-802a-4e7c-8f33-a7e3b807364d",
   "metadata": {},
   "outputs": [
    {
     "data": {
      "text/plain": [
       "np.int64(9)"
      ]
     },
     "execution_count": 42,
     "metadata": {},
     "output_type": "execute_result"
    }
   ],
   "source": [
    "mythirdseries.count() # how many not null values"
   ]
  },
  {
   "cell_type": "code",
   "execution_count": 43,
   "id": "1782c8bd-7e69-4107-9c81-ffb65cbc0523",
   "metadata": {},
   "outputs": [
    {
     "data": {
      "text/plain": [
       "4     4\n",
       "2     1\n",
       "6     1\n",
       "8     1\n",
       "10    1\n",
       "12    1\n",
       "Name: count, dtype: int64"
      ]
     },
     "execution_count": 43,
     "metadata": {},
     "output_type": "execute_result"
    }
   ],
   "source": [
    "mythirdseries.value_counts()"
   ]
  },
  {
   "cell_type": "code",
   "execution_count": null,
   "id": "459c7b2e-4b0e-4c98-b72b-22fe1a94f9ef",
   "metadata": {},
   "outputs": [],
   "source": []
  }
 ],
 "metadata": {
  "kernelspec": {
   "display_name": "Python 3 (ipykernel)",
   "language": "python",
   "name": "python3"
  },
  "language_info": {
   "codemirror_mode": {
    "name": "ipython",
    "version": 3
   },
   "file_extension": ".py",
   "mimetype": "text/x-python",
   "name": "python",
   "nbconvert_exporter": "python",
   "pygments_lexer": "ipython3",
   "version": "3.12.4"
  }
 },
 "nbformat": 4,
 "nbformat_minor": 5
}
